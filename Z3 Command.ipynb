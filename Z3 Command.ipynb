{
 "cells": [
  {
   "cell_type": "markdown",
   "metadata": {},
   "source": [
    "# 1. echo\n",
    "\n",
    "## Displays a message\n",
    "\n",
    "### (echo *message*)"
   ]
  },
  {
   "cell_type": "markdown",
   "metadata": {},
   "source": [
    "# 2. help\n",
    "\n",
    "## Displays a list of all available commands\n",
    "\n",
    "### (help)\n",
    "\n",
    "## Description of a model\n",
    "\n",
    "### (help *model name*)"
   ]
  },
  {
   "cell_type": "markdown",
   "metadata": {},
   "source": [
    "### Note 1. Assertion: \n",
    "\n",
    "### Z3 maintains a stack of user provided *formulas* and *declarations*. These are the *assertions* provided by the user. $\\rightarrow$ (declare-const) and (declare-fun)"
   ]
  },
  {
   "cell_type": "markdown",
   "metadata": {},
   "source": [
    "# 3. declare-const\n",
    "\n",
    "### (declare-const a Int)"
   ]
  },
  {
   "cell_type": "markdown",
   "metadata": {},
   "source": [
    "# 4. declare-fun\n",
    "\n",
    "### (declare-fun f (Int Bool) Int)\n",
    "\n",
    "- Input 1: integer\n",
    "\n",
    "- Input 2: boolean\n",
    "\n",
    "- Return: integer"
   ]
  },
  {
   "cell_type": "markdown",
   "metadata": {},
   "source": [
    "# 5. assert\n",
    "\n",
    "## Adds a formula into the Z3 internal stack\n",
    "\n",
    "### (assert (< (f a true) 100))\n",
    "\n",
    "- Input 1: integer a\n",
    "\n",
    "- Input 2: bool true\n",
    "\n",
    "- return < 100"
   ]
  },
  {
   "cell_type": "markdown",
   "metadata": {},
   "source": [
    "### Note2. satisfiable:\n",
    "\n",
    "### The Z3 stack is satisfiable if there is an interpretation (for the user declared constants and functions) that makes all asserted formulas true."
   ]
  },
  {
   "cell_type": "markdown",
   "metadata": {},
   "source": [
    "# 6. check-sat\n",
    "\n",
    "## Determines whether the current formulas on the Z3 stack are satisfiable or not\n",
    "\n",
    "### (check-sat)"
   ]
  },
  {
   "cell_type": "markdown",
   "metadata": {},
   "source": [
    "# 7. get-model\n",
    "\n",
    "## Retrieve an interpretation that makes all formulas on the Z3 internal stack true\n",
    "\n",
    "### (get-model)\n",
    "\n",
    "### Example, result:\n",
    "\n",
    "### (define-fun f ((x!1 Int) (x!2 Bool)) Int\n",
    "### (ite (and (= x!1 11) (= x!2 false)) 21 0)\n",
    "### )"
   ]
  },
  {
   "cell_type": "markdown",
   "metadata": {},
   "source": [
    "### Note 3. Using Scopes:\n",
    "\n",
    "### Explore several similar problems that share several definitions and assertions"
   ]
  },
  {
   "cell_type": "markdown",
   "metadata": {},
   "source": [
    "# 8. push & pop\n",
    "\n",
    "## push: creates a new scope by saving the current stack size.\n",
    "\n",
    "## pop:  removes any assertion or declaration performed between it and the matching push.\n",
    "\n",
    "### Z3 maintains a global stack of declarations and assertions.  \n",
    "\n",
    "### The *check-sat* and *get-assertions* commands always operate on the content of the global stack."
   ]
  },
  {
   "cell_type": "markdown",
   "metadata": {},
   "source": [
    "# 9. set-option\n",
    "\n",
    "## Configuration, configure Z3 to control its behavior.\n",
    "\n",
    "### (set-option :print-success true) \n",
    "\n",
    "### (set-option :produce-unsat-cores true) ; enable generation of unsat cores\n",
    "\n",
    "### (set-option :produce-models true) ; enable model generation\n",
    "\n",
    "### (set-option :produce-proofs true) ; enable proof generation\n",
    "\n",
    "### Tips 1: cannot change this option after a declaration or assertion\n",
    "\n",
    "### (declare-const x Int)\n",
    "\n",
    "### (set-option :produce-proofs false) ; *error, cannot change this option after a declaration or assertion*"
   ]
  },
  {
   "cell_type": "markdown",
   "metadata": {},
   "source": [
    "# 10. reset\n",
    "\n",
    "## Command to erase all assertions and declarations. \n",
    "\n",
    "### (echo \"before reset\")\n",
    "\n",
    "### (reset)\n",
    "\n",
    "### (set-option :produce-proofs false) ; *ok*"
   ]
  },
  {
   "cell_type": "code",
   "execution_count": null,
   "metadata": {
    "collapsed": true
   },
   "outputs": [],
   "source": []
  }
 ],
 "metadata": {
  "anaconda-cloud": {},
  "kernelspec": {
   "display_name": "Python [default]",
   "language": "python",
   "name": "python3"
  },
  "language_info": {
   "codemirror_mode": {
    "name": "ipython",
    "version": 3
   },
   "file_extension": ".py",
   "mimetype": "text/x-python",
   "name": "python",
   "nbconvert_exporter": "python",
   "pygments_lexer": "ipython3",
   "version": "3.5.2"
  }
 },
 "nbformat": 4,
 "nbformat_minor": 1
}
