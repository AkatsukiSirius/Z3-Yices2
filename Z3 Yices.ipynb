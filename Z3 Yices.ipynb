{
 "cells": [
  {
   "cell_type": "markdown",
   "metadata": {},
   "source": [
    "# 1. [Satisfiability](https://en.wikipedia.org/wiki/Boolean_satisfiability_problem)"
   ]
  },
  {
   "cell_type": "markdown",
   "metadata": {},
   "source": [
    "the problem of determining if there exists an interpretation that satisfies a given Boolean formula.\n",
    "\n",
    "satisfiable: whether the variables of a given Boolean formula can be consistently replaced by the values TRUE or FALSE in such a way that the formula evaluates to TRUE.\n",
    "\n",
    "Unsatisfiable: if no such assignment exists, the function expressed by the formula is FALSE for all possible variable assignments and the formula is unsatisfiable\n",
    "\n",
    "Cook–Levin theorem $\\rightarrow$ NP-complete"
   ]
  },
  {
   "cell_type": "markdown",
   "metadata": {},
   "source": [
    "### SAT $\\rightarrow$ Satisfiability Modulo Theories"
   ]
  },
  {
   "cell_type": "markdown",
   "metadata": {},
   "source": [
    "# 2. [Many sorted first order logic](https://en.wikipedia.org/wiki/Many-sorted_logic)"
   ]
  },
  {
   "cell_type": "markdown",
   "metadata": {},
   "source": [
    "# 3. integrated Yices 2’s C API into an open source SMT-LIB 2.0 parser;"
   ]
  },
  {
   "cell_type": "markdown",
   "metadata": {},
   "source": [
    "# 4. integrating Z3 into software stack for static analysis and verification\n",
    "\n",
    "# 5. arithmetic solver, unsat solvers"
   ]
  },
  {
   "cell_type": "markdown",
   "metadata": {},
   "source": [
    "# 6. Z3"
   ]
  },
  {
   "cell_type": "markdown",
   "metadata": {},
   "source": [
    "linear and real arithmetic, limited non-linear arithmetic, arrays, bitvectors, quantifiers, and uninterpreted functions.\n",
    "\n",
    "MAX SAT solver\n",
    "\n",
    "## Quantification\n",
    "\n",
    "### Universal Quantification $\\forall$\n",
    "\n",
    "### Existential Quantification $\\exists$\n",
    "\n",
    "### Uniqueness Quantifier $\\exists!$"
   ]
  },
  {
   "cell_type": "markdown",
   "metadata": {},
   "source": [
    "# 7. Yices2\n",
    "\n",
    "subtypes and dependent types.\n",
    "\n",
    "Subtypes allow you to define sorts such as S such that $S\\subseteq T$, and T is the domain of\n",
    "a sort. \n",
    "\n",
    "Dependent types allow sorts to depend on other sorts in the context."
   ]
  },
  {
   "cell_type": "code",
   "execution_count": null,
   "metadata": {
    "collapsed": true
   },
   "outputs": [],
   "source": []
  }
 ],
 "metadata": {
  "anaconda-cloud": {},
  "kernelspec": {
   "display_name": "Python [default]",
   "language": "python",
   "name": "python3"
  },
  "language_info": {
   "codemirror_mode": {
    "name": "ipython",
    "version": 3
   },
   "file_extension": ".py",
   "mimetype": "text/x-python",
   "name": "python",
   "nbconvert_exporter": "python",
   "pygments_lexer": "ipython3",
   "version": "3.5.2"
  }
 },
 "nbformat": 4,
 "nbformat_minor": 1
}
