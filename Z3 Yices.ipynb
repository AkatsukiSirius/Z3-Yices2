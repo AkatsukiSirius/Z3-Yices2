{
 "cells": [
  {
   "cell_type": "markdown",
   "metadata": {},
   "source": [
    "# 1. [Satisfiability](https://en.wikipedia.org/wiki/Boolean_satisfiability_problem)"
   ]
  },
  {
   "cell_type": "markdown",
   "metadata": {},
   "source": [
    "## 1.1 Problem\n",
    "\n",
    "### Determine if there exists an interpretation that satisfies a given Boolean formula.\n",
    "\n",
    "### Give a set of clauses, find a boolean, make all clauses true\n",
    "\n",
    "### Defined by Conjunctive Normal Form, e.g $(x\\lor\\neg y)\\land \\neg x$\n",
    "\n",
    "## 1.2 Satisfiable\n",
    "\n",
    "### Whether the variables of a given Boolean formula can be consistently replaced by the values TRUE or FALSE in such a way that the formula evaluates to TRUE.\n",
    "\n",
    "### If a schema comes out true in one or more of its interpretations we call it satisfiable.\n",
    "\n",
    "### A schema is valid if and only if its negation is unsatisfiable\n",
    "\n",
    "## 1.3 Unsatisfiable\n",
    "\n",
    "### If no such assignment exists, the function expressed by the formula is FALSE for all possible variable assignments and the formula is unsatisfiable\n",
    "\n",
    "### A schema is unsatisfiable if and only if its negation is valid\n",
    "\n",
    "## 1.4 Cook–Levin theorem $\\rightarrow$ NP-complete"
   ]
  },
  {
   "cell_type": "markdown",
   "metadata": {},
   "source": [
    "## 1.5 SAT $\\rightarrow$ SMT (Satisfiability Modulo Theories)\n",
    "\n",
    "### SAT solver\n",
    "\n",
    "#### Linear solver\n",
    "\n",
    "#### Array solver\n",
    "\n",
    "#### String solver\n",
    "\n",
    "### SMT: tools include all above"
   ]
  },
  {
   "cell_type": "markdown",
   "metadata": {},
   "source": [
    "## Example 1\n",
    "\n",
    "## $P\\rightarrow(Q\\lor R)\\rightarrow(P\\land Q)\\rightarrow R$\n",
    "\n",
    "### a. satisfiable but not valid\n",
    "\n",
    "### b. valid\n",
    "\n",
    "### c. contraditiction\n",
    "\n",
    "### d. none of above"
   ]
  },
  {
   "cell_type": "markdown",
   "metadata": {},
   "source": [
    "## Example 2\n",
    "\n",
    "## $F_1:P\\rightarrow \\neg P$\n",
    "\n",
    "## $F_2:(P\\rightarrow \\neg P) \\land (\\neg P \\rightarrow P)$\n",
    "\n",
    "### a. $F_1$ is satisfiable, $F_2$ is valid\n",
    "\n",
    "### b. $F_1$ is unsatisfiable, $F_2$ is satisfiable\n",
    "\n",
    "### c. $F_1$ is unsatisfiable, $F_2$ is valid\n",
    "\n",
    "### d. $F_1$ and $F_2$ are both satisfiable"
   ]
  },
  {
   "cell_type": "markdown",
   "metadata": {},
   "source": [
    "## 1.6 [Tautology](https://en.wikipedia.org/wiki/Tautology)\n",
    "\n",
    "### A formula or assertion that is true in every possible interpretation. \n",
    "\n",
    "### A simple example: \"(x equals y) or (x does not equal y)\"."
   ]
  },
  {
   "cell_type": "markdown",
   "metadata": {},
   "source": [
    "# 2. [Many sorted first order logic](https://en.wikipedia.org/wiki/Many-sorted_logic)"
   ]
  },
  {
   "cell_type": "markdown",
   "metadata": {},
   "source": [
    "# 3. integrated Yices 2’s C API into an open source SMT-LIB 2.0 parser;"
   ]
  },
  {
   "cell_type": "markdown",
   "metadata": {},
   "source": [
    "# 4. integrating Z3 into software stack for static analysis and verification\n",
    "\n",
    "# 5. arithmetic solver, unsat solvers"
   ]
  },
  {
   "cell_type": "markdown",
   "metadata": {},
   "source": [
    "# 6. Z3"
   ]
  },
  {
   "cell_type": "markdown",
   "metadata": {},
   "source": [
    "linear and real arithmetic, limited non-linear arithmetic, arrays, bitvectors, quantifiers, and uninterpreted functions.\n",
    "\n",
    "MAX SAT solver\n",
    "\n",
    "## Quantification\n",
    "\n",
    "### Universal Quantification $\\forall$\n",
    "\n",
    "### Existential Quantification $\\exists$\n",
    "\n",
    "### Uniqueness Quantifier $\\exists!$"
   ]
  },
  {
   "cell_type": "markdown",
   "metadata": {},
   "source": [
    "# 7. Yices2\n",
    "\n",
    "subtypes and dependent types.\n",
    "\n",
    "Subtypes allow you to define sorts such as S such that $S\\subseteq T$, and T is the domain of\n",
    "a sort. \n",
    "\n",
    "Dependent types allow sorts to depend on other sorts in the context."
   ]
  },
  {
   "cell_type": "code",
   "execution_count": null,
   "metadata": {
    "collapsed": true
   },
   "outputs": [],
   "source": []
  }
 ],
 "metadata": {
  "anaconda-cloud": {},
  "kernelspec": {
   "display_name": "Python 3",
   "language": "python",
   "name": "python3"
  },
  "language_info": {
   "codemirror_mode": {
    "name": "ipython",
    "version": 3
   },
   "file_extension": ".py",
   "mimetype": "text/x-python",
   "name": "python",
   "nbconvert_exporter": "python",
   "pygments_lexer": "ipython3",
   "version": "3.6.5"
  }
 },
 "nbformat": 4,
 "nbformat_minor": 1
}
