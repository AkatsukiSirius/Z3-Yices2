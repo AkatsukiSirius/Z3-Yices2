{
 "cells": [
  {
   "cell_type": "markdown",
   "metadata": {},
   "source": [
    "# Introduction"
   ]
  },
  {
   "cell_type": "markdown",
   "metadata": {},
   "source": [
    "## Purpose:\n",
    "\n",
    "- __To verify that the addition of a new constraint $F_k$ to a set of constraints $\\{F_{\\text{1 , ... , j}}\\}$ allows the inference of new formulas, which means $F_k$ is not inferred by orginial set $\\{F_1,...,F_j \\}$ otherwise it is the symptom that this new constraint is redundant.__\n",
    "\n",
    "## Definition:\n",
    "\n",
    "- __Let $\\{F_1, ..., F_j\\}$ be a set of constraints. Let $F_k$ be a new instruction. If $F_1\\land ...\\land F_j\\land F_k\\not\\models\\bot$, *i.e, $\\{F_1, ..., F_j, F_k\\}$ is satisfiable*, then $F_k$ is not redundant iff $F_1 \\land ... \\land F_j \\land \\neg F_k \\not\\models\\bot$ *i.e, $\\{F_1, ..., F_j, \\neg F_k\\}$ is satisfiable*.__\n",
    "\n",
    "- If there exists $F_1 \\land ... \\land F_j \\land \\neg F_k \\models\\bot$, then, we have $F_1 \\land ... \\land F_j \\models F_k$, which means $F_k$ can be infered by $\\{F_1,...,F_j \\}$, so $F_k$ is redundant.\n",
    "\n",
    "## Conclusion:\n",
    "\n",
    "- __Steps to check whether a new constraint $F_k$ is redundant to a existing or not.__\n",
    "\n",
    "- __1) Add $F_k$ to existing set $\\{F_{\\text{1 , ... , j}}\\}$, check the satisfiability;__\n",
    "\n",
    "- __2) Remove $F_k$ and add $\\neg F_k$, then, check the satisfiability;__\n",
    "\n",
    "- __3) If both operations guarantee the satisfiability, the new constraint $F_k$ is non-redundant.__"
   ]
  },
  {
   "cell_type": "markdown",
   "metadata": {},
   "source": [
    "# Implementation with Z3Py"
   ]
  },
  {
   "cell_type": "code",
   "execution_count": 5,
   "metadata": {},
   "outputs": [],
   "source": [
    "from z3 import *\n",
    "import re"
   ]
  },
  {
   "cell_type": "code",
   "execution_count": 6,
   "metadata": {},
   "outputs": [],
   "source": [
    "def redunCheckZ3(s, newCond):\n",
    "    '''\n",
    "    Description: pass through a set of constrains s,\n",
    "    check the redundecny of new constraint newCond\n",
    "    :type z3.z3.Solver: s\n",
    "    :type z3.z3.BoolRef: newCond\n",
    "    :rtype: string\n",
    "    '''\n",
    "    res = ''\n",
    "    # Add the new constriant to existing set\n",
    "    s.push() \n",
    "    s.add(newCond)\n",
    "    r1 = (s.check()==sat)\n",
    "    # Remove the new constraint\n",
    "    s.pop()\n",
    "    # Add the negation of new constraint \n",
    "    s.push()\n",
    "    s.add(Not(newCond))\n",
    "    r2 = (s.check()==sat)\n",
    "    # Remove the constraint just added\n",
    "    s.pop()\n",
    "    # Check the redundency\n",
    "    if r1 == True and r2 == True:\n",
    "        res = 'Non-redundant'\n",
    "    else:\n",
    "        res = 'Redundant'\n",
    "    return res"
   ]
  },
  {
   "cell_type": "markdown",
   "metadata": {},
   "source": [
    "## Example 1 - Arithmetic Operations"
   ]
  },
  {
   "cell_type": "markdown",
   "metadata": {},
   "source": [
    "- __1) Variables: x as int, y as int__\n",
    "\n",
    "- __2) Existing Statement:__\n",
    "\n",
    "    - __$i: (x+y)^2 > 10, x>10, y>10$__\n",
    "\n",
    "- __3) New Constraints:__\n",
    "\n",
    "    - __$\\text{New Constraint 1: } x > 0$__\n",
    "\n",
    "    - __$\\text{New Constraint 2: } x < 100$__"
   ]
  },
  {
   "cell_type": "code",
   "execution_count": 7,
   "metadata": {},
   "outputs": [],
   "source": [
    "# Part 1: Defince constraints\n",
    "# Define Variables\n",
    "x = Int('x')\n",
    "y = Int('y')"
   ]
  },
  {
   "cell_type": "code",
   "execution_count": 8,
   "metadata": {},
   "outputs": [],
   "source": [
    "# Create an empty constraints set\n",
    "s = Solver()"
   ]
  },
  {
   "cell_type": "code",
   "execution_count": 9,
   "metadata": {},
   "outputs": [],
   "source": [
    "# Define the function t = (x+y)^2\n",
    "t = simplify((x + y)**2, som=True)"
   ]
  },
  {
   "cell_type": "code",
   "execution_count": 10,
   "metadata": {},
   "outputs": [],
   "source": [
    "# Add first constraint to body\n",
    "s.push()"
   ]
  },
  {
   "cell_type": "code",
   "execution_count": 11,
   "metadata": {},
   "outputs": [],
   "source": [
    "s.add(t>10)"
   ]
  },
  {
   "cell_type": "code",
   "execution_count": 12,
   "metadata": {},
   "outputs": [
    {
     "data": {
      "text/plain": [
       "[x*x + 2*x*y + y*y > 10]"
      ]
     },
     "execution_count": 12,
     "metadata": {},
     "output_type": "execute_result"
    }
   ],
   "source": [
    "# Display the body\n",
    "s.assertions()"
   ]
  },
  {
   "cell_type": "code",
   "execution_count": 13,
   "metadata": {},
   "outputs": [],
   "source": [
    "# Add other constraints, x > 10, y > 10\n",
    "s.push()"
   ]
  },
  {
   "cell_type": "code",
   "execution_count": 14,
   "metadata": {},
   "outputs": [],
   "source": [
    "s.add(x>10,y>10)"
   ]
  },
  {
   "cell_type": "code",
   "execution_count": 15,
   "metadata": {},
   "outputs": [
    {
     "data": {
      "text/plain": [
       "[x*x + 2*x*y + y*y > 10, x > 10, y > 10]"
      ]
     },
     "execution_count": 15,
     "metadata": {},
     "output_type": "execute_result"
    }
   ],
   "source": [
    "# Display the body\n",
    "s.assertions()"
   ]
  },
  {
   "cell_type": "markdown",
   "metadata": {},
   "source": [
    "### Case 1. Redundant Constraint\n",
    "\n",
    "- __$\\text{New Constraint 1: }x > 0$__"
   ]
  },
  {
   "cell_type": "code",
   "execution_count": 16,
   "metadata": {},
   "outputs": [],
   "source": [
    "# Part 2: Check new constraints\n",
    "# Define first new constraint, x > 0\n",
    "f = x > 0"
   ]
  },
  {
   "cell_type": "code",
   "execution_count": 17,
   "metadata": {},
   "outputs": [
    {
     "data": {
      "text/plain": [
       "'Redundant'"
      ]
     },
     "execution_count": 17,
     "metadata": {},
     "output_type": "execute_result"
    }
   ],
   "source": [
    "# Check the redundency\n",
    "redunCheckZ3(s, f)"
   ]
  },
  {
   "cell_type": "markdown",
   "metadata": {},
   "source": [
    "- __Explain: The existing constraint x > 10 always guarantee x > 0, so the new constraint x > 0 is redundant__"
   ]
  },
  {
   "cell_type": "code",
   "execution_count": 18,
   "metadata": {},
   "outputs": [
    {
     "data": {
      "text/plain": [
       "[x*x + 2*x*y + y*y > 10, x > 10, y > 10]"
      ]
     },
     "execution_count": 18,
     "metadata": {},
     "output_type": "execute_result"
    }
   ],
   "source": [
    "s.assertions()"
   ]
  },
  {
   "cell_type": "markdown",
   "metadata": {},
   "source": [
    "### Case 2. Non Redundant Constraint\n",
    "\n",
    "- __$\\text{New Constraint 2: }x < 100$__"
   ]
  },
  {
   "cell_type": "code",
   "execution_count": 19,
   "metadata": {},
   "outputs": [],
   "source": [
    "# Define first new constraint, x > 0\n",
    "g = x < 100"
   ]
  },
  {
   "cell_type": "code",
   "execution_count": 20,
   "metadata": {},
   "outputs": [
    {
     "data": {
      "text/plain": [
       "'Non-redundant'"
      ]
     },
     "execution_count": 20,
     "metadata": {},
     "output_type": "execute_result"
    }
   ],
   "source": [
    "# Check the redundency\n",
    "redunCheckZ3(s, g)"
   ]
  },
  {
   "cell_type": "markdown",
   "metadata": {},
   "source": [
    "- __Explain: The new constraint x < 100 cannot be infered from the exisiting constraints, so it is Non-redundant__"
   ]
  },
  {
   "cell_type": "markdown",
   "metadata": {},
   "source": [
    "## Example 2 - Machine Arithmetic"
   ]
  },
  {
   "cell_type": "markdown",
   "metadata": {},
   "source": [
    "- __1) Variables: x as bit vector(16 bits), y as bit vector(16 bits)__\n",
    "\n",
    "- __2) Existing Statement:__\n",
    "\n",
    "    - __$i: x + y == 10, (x >= 3 \\text{ or } y >= 3)$__\n",
    "\n",
    "- __3) New Constraints:__\n",
    "\n",
    "    - __$\\text{New Constraint 1: } x > 1$__\n",
    "\n",
    "    - __$\\text{New Constraint 2: } x > 3$__"
   ]
  },
  {
   "cell_type": "code",
   "execution_count": 17,
   "metadata": {},
   "outputs": [],
   "source": [
    "x = BitVec('x', 16)\n",
    "y = BitVec('y', 16)"
   ]
  },
  {
   "cell_type": "code",
   "execution_count": 18,
   "metadata": {},
   "outputs": [],
   "source": [
    "s = Solver()"
   ]
  },
  {
   "cell_type": "code",
   "execution_count": 19,
   "metadata": {},
   "outputs": [],
   "source": [
    "t = (x + y == 10)"
   ]
  },
  {
   "cell_type": "code",
   "execution_count": 20,
   "metadata": {},
   "outputs": [],
   "source": [
    "s.push()"
   ]
  },
  {
   "cell_type": "code",
   "execution_count": 21,
   "metadata": {},
   "outputs": [],
   "source": [
    "s.add(t)"
   ]
  },
  {
   "cell_type": "code",
   "execution_count": 22,
   "metadata": {},
   "outputs": [
    {
     "data": {
      "text/plain": [
       "[x + y == 10]"
      ]
     },
     "execution_count": 22,
     "metadata": {},
     "output_type": "execute_result"
    }
   ],
   "source": [
    "s.assertions()"
   ]
  },
  {
   "cell_type": "code",
   "execution_count": 23,
   "metadata": {},
   "outputs": [],
   "source": [
    "s.push()"
   ]
  },
  {
   "cell_type": "code",
   "execution_count": 24,
   "metadata": {},
   "outputs": [],
   "source": [
    "s.add(x>=3,y>=3)"
   ]
  },
  {
   "cell_type": "code",
   "execution_count": 25,
   "metadata": {},
   "outputs": [
    {
     "data": {
      "text/plain": [
       "[x + y == 10, x >= 3, y >= 3]"
      ]
     },
     "execution_count": 25,
     "metadata": {},
     "output_type": "execute_result"
    }
   ],
   "source": [
    "s.assertions()"
   ]
  },
  {
   "cell_type": "markdown",
   "metadata": {},
   "source": [
    "### Case 1. Redundant Constraint\n",
    "\n",
    "- __$\\text{New Constraint 1: } x > 1$__"
   ]
  },
  {
   "cell_type": "code",
   "execution_count": 26,
   "metadata": {},
   "outputs": [],
   "source": [
    "f = x > 1"
   ]
  },
  {
   "cell_type": "code",
   "execution_count": 27,
   "metadata": {},
   "outputs": [
    {
     "data": {
      "text/plain": [
       "'Redundant'"
      ]
     },
     "execution_count": 27,
     "metadata": {},
     "output_type": "execute_result"
    }
   ],
   "source": [
    "redunCheckZ3(s, f)"
   ]
  },
  {
   "cell_type": "markdown",
   "metadata": {},
   "source": [
    "### Case 2. Non Redundant Constraint\n",
    "\n",
    "- __$\\text{New Constraint 2: } x > 3$__"
   ]
  },
  {
   "cell_type": "code",
   "execution_count": 28,
   "metadata": {},
   "outputs": [],
   "source": [
    "g = x > 3"
   ]
  },
  {
   "cell_type": "code",
   "execution_count": 29,
   "metadata": {},
   "outputs": [
    {
     "data": {
      "text/plain": [
       "'Non-redundant'"
      ]
     },
     "execution_count": 29,
     "metadata": {},
     "output_type": "execute_result"
    }
   ],
   "source": [
    "redunCheckZ3(s, g)"
   ]
  },
  {
   "cell_type": "markdown",
   "metadata": {},
   "source": [
    "# Implementation with YICES"
   ]
  },
  {
   "cell_type": "code",
   "execution_count": 35,
   "metadata": {},
   "outputs": [],
   "source": [
    "from yices import *"
   ]
  },
  {
   "cell_type": "code",
   "execution_count": 36,
   "metadata": {},
   "outputs": [],
   "source": [
    "def redunCheckYices(s, newCond):\n",
    "    '''\n",
    "    :param s: literals in body\n",
    "    :param nfmal: the new constraint to check\n",
    "    :return: res\n",
    "    '''\n",
    "\n",
    "    s.push()\n",
    "    s.assert_formulas([newCond])\n",
    "    status0 = ctx.check_context() == Status.SAT\n",
    "    s.pop()\n",
    "    s.push()\n",
    "    s.assert_formulas([Terms.ynot(newCond)])\n",
    "    status1 = ctx.check_context() == Status.SAT\n",
    "    s.pop()\n",
    "    if status0 and status1:\n",
    "        res = 'Non - redundant'\n",
    "    else:\n",
    "        res = 'Redundant'\n",
    "    return res"
   ]
  },
  {
   "cell_type": "markdown",
   "metadata": {},
   "source": [
    "## Example 1. Real Arithmetic"
   ]
  },
  {
   "cell_type": "markdown",
   "metadata": {},
   "source": [
    "- __1) Variables: x as int, y as int__\n",
    "\n",
    "- __2) Existing Statement:__\n",
    "\n",
    "    - __$i: 2x + y > 1, (x < 0 \\text{ or } y < 0)$__\n",
    "\n",
    "- __3) New Constraints:__\n",
    "\n",
    "    - __$\\text{New Constraint 1: } 2x + y > 0$__\n",
    "\n",
    "    - __$\\text{New Constraint 2: } x < 1$__"
   ]
  },
  {
   "cell_type": "code",
   "execution_count": 41,
   "metadata": {},
   "outputs": [],
   "source": [
    "cfg = Config()\n",
    "cfg.default_config_for_logic('QF_LRA')\n",
    "ctx = Context(cfg)  # type: Context\n",
    "\n",
    "real_t = Types.real_type()\n",
    "x = Terms.new_uninterpreted_term(real_t, 'x')\n",
    "y = Terms.new_uninterpreted_term(real_t, 'y')\n",
    "\n",
    "f0 = Terms.parse_term('(> (+ (* 2 x) y) 1)')  # type: object # x + y > 0\n",
    "f1 = Terms.parse_term('(or (< x 0) (< y 0))')  # x < 0 or y < 0\n",
    "\n",
    "ctx.push()\n",
    "ctx.assert_formulas([f0, f1])\n"
   ]
  },
  {
   "cell_type": "markdown",
   "metadata": {},
   "source": [
    "### Case 1. Redundant Constraint\n",
    "\n",
    "- $\\text{New Constraint 1: } 2x + y > 0$"
   ]
  },
  {
   "cell_type": "code",
   "execution_count": 29,
   "metadata": {},
   "outputs": [
    {
     "name": "stdout",
     "output_type": "stream",
     "text": [
      "Redundant\n"
     ]
    }
   ],
   "source": [
    "newCond = Terms.parse_term('(> (+ (* 2 x) y) 0)')\n",
    "print(redunCheckYices(ctx, newCond))"
   ]
  },
  {
   "cell_type": "markdown",
   "metadata": {},
   "source": [
    "### Case 2. Non Redundant Constraint\n",
    "\n",
    "- __$\\text{New Constraint 2: } x < 1$__"
   ]
  },
  {
   "cell_type": "code",
   "execution_count": 28,
   "metadata": {},
   "outputs": [
    {
     "name": "stdout",
     "output_type": "stream",
     "text": [
      "Non - redundant\n"
     ]
    }
   ],
   "source": [
    "newCond = Terms.parse_term('(< x 1)')\n",
    "print(redunCheckYices(ctx, newCond))"
   ]
  },
  {
   "cell_type": "markdown",
   "metadata": {},
   "source": [
    "## Example 2. Bit-Vector"
   ]
  },
  {
   "cell_type": "markdown",
   "metadata": {},
   "source": [
    "- __1) Variables: x as bit vector(32 bits) , y as bit vector(32 bits), z as bit vector(32 bits)__\n",
    "\n",
    "- __2) Existing Statement:__\n",
    "\n",
    "    - __$i: x + y + z > 5, x > 1, y > 1, z > 1$__\n",
    "\n",
    "- __3) New Constraints:__\n",
    "\n",
    "    - __$\\text{New Constraint 1: } x > 0$__\n",
    "\n",
    "    - __$\\text{New Constraint 2: } y > 3$__"
   ]
  },
  {
   "cell_type": "code",
   "execution_count": 32,
   "metadata": {},
   "outputs": [
    {
     "data": {
      "text/plain": [
       "True"
      ]
     },
     "execution_count": 32,
     "metadata": {},
     "output_type": "execute_result"
    }
   ],
   "source": [
    "cfg = Config()\n",
    "cfg.default_config_for_logic('QF_BV')\n",
    "ctx = Context(cfg)\n",
    "\n",
    "bv32_t = Types.bv_type(32)\n",
    "x = Terms.new_uninterpreted_term(bv32_t, 'x')\n",
    "y = Terms.new_uninterpreted_term(bv32_t, 'y')\n",
    "z = Terms.new_uninterpreted_term(bv32_t, 'z')\n",
    "\n",
    "constant = Terms.bvconst_integer(32, 5)\n",
    "f0 = Terms.bvgt_atom(Terms.bvadd(Terms.bvadd(x, y), z), constant)\n",
    "f1 = Terms.bvgt_atom(x, Terms.bvconst_integer(32, 1))\n",
    "f2 = Terms.bvgt_atom(y, Terms.bvconst_integer(32, 1))\n",
    "f3 = Terms.bvgt_atom(z, Terms.bvconst_integer(32, 1))\n",
    "\n",
    "ctx.push()\n",
    "ctx.assert_formulas([f0, f1, f2, f3])"
   ]
  },
  {
   "cell_type": "markdown",
   "metadata": {},
   "source": [
    "### Case 1. Redundant Constraint\n",
    "\n",
    "- __$\\text{New Constraint 1: } x > 0$__"
   ]
  },
  {
   "cell_type": "code",
   "execution_count": 33,
   "metadata": {},
   "outputs": [
    {
     "name": "stdout",
     "output_type": "stream",
     "text": [
      "Redundant\n"
     ]
    }
   ],
   "source": [
    "newCond = Terms.bvgt_atom(x, Terms.bvconst_integer(32, 0))\n",
    "\n",
    "print(redunCheckYices(ctx, newCond))"
   ]
  },
  {
   "cell_type": "markdown",
   "metadata": {},
   "source": [
    "### Case 2. Non Redundant Constraint\n",
    "\n",
    "- __$\\text{New Constraint 2: } y > 3$__"
   ]
  },
  {
   "cell_type": "code",
   "execution_count": 34,
   "metadata": {},
   "outputs": [
    {
     "name": "stdout",
     "output_type": "stream",
     "text": [
      "Non - redundant\n"
     ]
    }
   ],
   "source": [
    "newCond = Terms.bvgt_atom(y, Terms.bvconst_integer(32, 3))\n",
    "print(redunCheckYices(ctx, newCond))"
   ]
  },
  {
   "cell_type": "markdown",
   "metadata": {},
   "source": [
    "# Reference:\n",
    "\n",
    "## [z3py-tutorial](https://ericpony.github.io/z3py-tutorial/guide-examples.htm)\n",
    "\n",
    "## [z3 Guide](https://rise4fun.com/z3/tutorial)\n",
    "\n",
    "## [yices2_python_bindings](https://github.com/SRI-CSL/yices2_python_bindings)"
   ]
  }
 ],
 "metadata": {
  "kernelspec": {
   "display_name": "Python 3",
   "language": "python",
   "name": "python3"
  },
  "language_info": {
   "codemirror_mode": {
    "name": "ipython",
    "version": 3
   },
   "file_extension": ".py",
   "mimetype": "text/x-python",
   "name": "python",
   "nbconvert_exporter": "python",
   "pygments_lexer": "ipython3",
   "version": "3.6.3"
  }
 },
 "nbformat": 4,
 "nbformat_minor": 2
}
